{
 "cells": [
  {
   "cell_type": "code",
   "execution_count": 213,
   "metadata": {},
   "outputs": [],
   "source": [
    "import pandas as pd\n",
    "import numpy as np\n",
    "from sklearn.preprocessing import LabelEncoder,StandardScaler,RobustScaler,MinMaxScaler\n",
    "from sklearn.impute import SimpleImputer\n",
    "from sklearn.ensemble import GradientBoostingRegressor\n",
    "from sklearn.pipeline import Pipeline\n",
    "from sklearn.model_selection import train_test_split\n",
    "from sklearn.metrics import mean_absolute_error\n",
    "import matplotlib.pyplot as plt\n",
    "import seaborn as sns\n",
    "from sklearn.model_selection import GridSearchCV\n",
    "%matplotlib inline"
   ]
  },
  {
   "cell_type": "code",
   "execution_count": 214,
   "metadata": {},
   "outputs": [],
   "source": [
    "train=pd.read_csv(\"/storage/emulated/0/Download/train kaggle.csv\",index_col=0)\n",
    "test=pd.read_csv(\"/storage/emulated/0/Download/test kaggle.csv\",index_col=0)"
   ]
  },
  {
   "cell_type": "code",
   "execution_count": 215,
   "metadata": {
    "scrolled": true
   },
   "outputs": [
    {
     "data": {
      "text/plain": [
       "(1459, 79)"
      ]
     },
     "execution_count": 215,
     "metadata": {},
     "output_type": "execute_result"
    }
   ],
   "source": [
    "test.shape\n"
   ]
  },
  {
   "cell_type": "code",
   "execution_count": 216,
   "metadata": {
    "scrolled": true
   },
   "outputs": [
    {
     "data": {
      "text/plain": [
       "(1460, 80)"
      ]
     },
     "execution_count": 216,
     "metadata": {},
     "output_type": "execute_result"
    }
   ],
   "source": [
    "train.shape"
   ]
  },
  {
   "cell_type": "code",
   "execution_count": 217,
   "metadata": {},
   "outputs": [
    {
     "data": {
      "text/plain": [
       "MSSubClass         0\n",
       "MSZoning           0\n",
       "LotFrontage      259\n",
       "LotArea            0\n",
       "Street             0\n",
       "                ... \n",
       "MoSold             0\n",
       "YrSold             0\n",
       "SaleType           0\n",
       "SaleCondition      0\n",
       "SalePrice          0\n",
       "Length: 80, dtype: int64"
      ]
     },
     "execution_count": 217,
     "metadata": {},
     "output_type": "execute_result"
    }
   ],
   "source": [
    "train.isna().sum()"
   ]
  },
  {
   "cell_type": "markdown",
   "metadata": {},
   "source": [
    "this does not give all the columns,so we have to find a way to print all the columns and their missing values"
   ]
  },
  {
   "cell_type": "code",
   "execution_count": 218,
   "metadata": {},
   "outputs": [],
   "source": [
    "def PrintMissing(dataframe):\n",
    "    dictionary_of_missing={}\n",
    "    list_of_missing=list(dataframe.isna().sum())\n",
    "    for i in dataframe.isna().sum():\n",
    "        if i>0:\n",
    "            index_of_missing=list_of_missing.index(i)\n",
    "            list_of_missing[index_of_missing]=0\n",
    "            dictionary_of_missing[dataframe.columns[index_of_missing]]=i\n",
    "    return dictionary_of_missing"
   ]
  },
  {
   "cell_type": "code",
   "execution_count": 219,
   "metadata": {
    "scrolled": false
   },
   "outputs": [
    {
     "data": {
      "text/plain": [
       "{'LotFrontage': 259,\n",
       " 'Alley': 1369,\n",
       " 'MasVnrType': 8,\n",
       " 'MasVnrArea': 8,\n",
       " 'BsmtQual': 37,\n",
       " 'BsmtCond': 37,\n",
       " 'BsmtExposure': 38,\n",
       " 'BsmtFinType1': 37,\n",
       " 'BsmtFinType2': 38,\n",
       " 'Electrical': 1,\n",
       " 'FireplaceQu': 690,\n",
       " 'GarageType': 81,\n",
       " 'GarageYrBlt': 81,\n",
       " 'GarageFinish': 81,\n",
       " 'GarageQual': 81,\n",
       " 'GarageCond': 81,\n",
       " 'PoolQC': 1453,\n",
       " 'Fence': 1179,\n",
       " 'MiscFeature': 1406}"
      ]
     },
     "execution_count": 219,
     "metadata": {},
     "output_type": "execute_result"
    }
   ],
   "source": [
    "PrintMissing(train)"
   ]
  },
  {
   "cell_type": "code",
   "execution_count": 220,
   "metadata": {
    "scrolled": false
   },
   "outputs": [
    {
     "data": {
      "text/plain": [
       "{'MSZoning': 4,\n",
       " 'LotFrontage': 227,\n",
       " 'Alley': 1352,\n",
       " 'Utilities': 2,\n",
       " 'Exterior1st': 1,\n",
       " 'Exterior2nd': 1,\n",
       " 'MasVnrType': 16,\n",
       " 'MasVnrArea': 15,\n",
       " 'BsmtQual': 44,\n",
       " 'BsmtCond': 45,\n",
       " 'BsmtExposure': 44,\n",
       " 'BsmtFinType1': 42,\n",
       " 'BsmtFinSF1': 1,\n",
       " 'BsmtFinType2': 42,\n",
       " 'BsmtFinSF2': 1,\n",
       " 'BsmtUnfSF': 1,\n",
       " 'TotalBsmtSF': 1,\n",
       " 'BsmtFullBath': 2,\n",
       " 'BsmtHalfBath': 2,\n",
       " 'KitchenQual': 1,\n",
       " 'Functional': 2,\n",
       " 'FireplaceQu': 730,\n",
       " 'GarageType': 76,\n",
       " 'GarageYrBlt': 78,\n",
       " 'GarageFinish': 78,\n",
       " 'GarageCars': 1,\n",
       " 'GarageArea': 1,\n",
       " 'GarageQual': 78,\n",
       " 'GarageCond': 78,\n",
       " 'PoolQC': 1456,\n",
       " 'Fence': 1169,\n",
       " 'MiscFeature': 1408,\n",
       " 'SaleType': 1}"
      ]
     },
     "execution_count": 220,
     "metadata": {},
     "output_type": "execute_result"
    }
   ],
   "source": [
    "PrintMissing(test)"
   ]
  },
  {
   "cell_type": "markdown",
   "metadata": {},
   "source": [
    "there are some of the columns such as fence on which NaNmeans the houses don't have that property."
   ]
  },
  {
   "cell_type": "code",
   "execution_count": 221,
   "metadata": {},
   "outputs": [],
   "source": [
    "list_of_useful_NaN=[\"Fence\",\"Alley\",\"BsmtQual\",\"BsmtCond\",\"BsmtExposure\",\"BsmtFinType1\",\"BsmtFinType2\",\"FireplaceQu\",\"GarageType\",\"GarageFinish\",\"GarageQual\",\"GarageCond\",\"PoolQC\",\"MiscFeature\"]"
   ]
  },
  {
   "cell_type": "code",
   "execution_count": 222,
   "metadata": {},
   "outputs": [],
   "source": [
    "for i in list_of_useful_NaN:\n",
    "    train[i]=train[i].fillna(\"None\")\n",
    "    test[i]=test[i].fillna(\"None\")\n",
    "    encoder=LabelEncoder()\n",
    "    train[i]=encoder.fit_transform(train[i])\n",
    "    test[i]=encoder.transform(test[i])"
   ]
  },
  {
   "cell_type": "code",
   "execution_count": 223,
   "metadata": {
    "scrolled": true
   },
   "outputs": [
    {
     "data": {
      "text/plain": [
       "{'LotFrontage': 259,\n",
       " 'MasVnrType': 8,\n",
       " 'MasVnrArea': 8,\n",
       " 'Electrical': 1,\n",
       " 'GarageYrBlt': 81}"
      ]
     },
     "execution_count": 223,
     "metadata": {},
     "output_type": "execute_result"
    }
   ],
   "source": [
    "PrintMissing(train)"
   ]
  },
  {
   "cell_type": "code",
   "execution_count": 224,
   "metadata": {
    "scrolled": false
   },
   "outputs": [
    {
     "data": {
      "text/plain": [
       "{'MSZoning': 4,\n",
       " 'LotFrontage': 227,\n",
       " 'Utilities': 2,\n",
       " 'Exterior1st': 1,\n",
       " 'Exterior2nd': 1,\n",
       " 'MasVnrType': 16,\n",
       " 'MasVnrArea': 15,\n",
       " 'BsmtFinSF1': 1,\n",
       " 'BsmtFinSF2': 1,\n",
       " 'BsmtUnfSF': 1,\n",
       " 'TotalBsmtSF': 1,\n",
       " 'BsmtFullBath': 2,\n",
       " 'BsmtHalfBath': 2,\n",
       " 'KitchenQual': 1,\n",
       " 'Functional': 2,\n",
       " 'GarageYrBlt': 78,\n",
       " 'GarageCars': 1,\n",
       " 'GarageArea': 1,\n",
       " 'SaleType': 1}"
      ]
     },
     "execution_count": 224,
     "metadata": {},
     "output_type": "execute_result"
    }
   ],
   "source": [
    "PrintMissing(test)"
   ]
  },
  {
   "cell_type": "markdown",
   "metadata": {},
   "source": [
    "let me check the details of the other missing values"
   ]
  },
  {
   "cell_type": "code",
   "execution_count": 225,
   "metadata": {},
   "outputs": [
    {
     "name": "stdout",
     "output_type": "stream",
     "text": [
      "60.0     143\n",
      "70.0      70\n",
      "80.0      69\n",
      "50.0      57\n",
      "75.0      53\n",
      "        ... \n",
      "106.0      1\n",
      "38.0       1\n",
      "138.0      1\n",
      "140.0      1\n",
      "137.0      1\n",
      "Name: LotFrontage, Length: 110, dtype: int64\n",
      "None       864\n",
      "BrkFace    445\n",
      "Stone      128\n",
      "BrkCmn      15\n",
      "Name: MasVnrType, dtype: int64\n",
      "0.0      861\n",
      "72.0       8\n",
      "180.0      8\n",
      "108.0      8\n",
      "120.0      7\n",
      "        ... \n",
      "651.0      1\n",
      "337.0      1\n",
      "415.0      1\n",
      "293.0      1\n",
      "621.0      1\n",
      "Name: MasVnrArea, Length: 327, dtype: int64\n",
      "SBrkr    1334\n",
      "FuseA      94\n",
      "FuseF      27\n",
      "FuseP       3\n",
      "Mix         1\n",
      "Name: Electrical, dtype: int64\n",
      "2005.0    65\n",
      "2006.0    59\n",
      "2004.0    53\n",
      "2003.0    50\n",
      "2007.0    49\n",
      "          ..\n",
      "1908.0     1\n",
      "1927.0     1\n",
      "1933.0     1\n",
      "1900.0     1\n",
      "1906.0     1\n",
      "Name: GarageYrBlt, Length: 97, dtype: int64\n"
     ]
    }
   ],
   "source": [
    "for i in PrintMissing(train).keys():\n",
    "    print(train[i].value_counts())"
   ]
  },
  {
   "cell_type": "code",
   "execution_count": 226,
   "metadata": {},
   "outputs": [
    {
     "name": "stdout",
     "output_type": "stream",
     "text": [
      "RL         1151\n",
      "RM          218\n",
      "FV           65\n",
      "RH           16\n",
      "C (all)      10\n",
      "Name: MSZoning, dtype: int64\n",
      "60.0     143\n",
      "70.0      70\n",
      "80.0      69\n",
      "50.0      57\n",
      "75.0      53\n",
      "        ... \n",
      "106.0      1\n",
      "38.0       1\n",
      "138.0      1\n",
      "140.0      1\n",
      "137.0      1\n",
      "Name: LotFrontage, Length: 110, dtype: int64\n",
      "AllPub    1459\n",
      "NoSeWa       1\n",
      "Name: Utilities, dtype: int64\n",
      "VinylSd    515\n",
      "HdBoard    222\n",
      "MetalSd    220\n",
      "Wd Sdng    206\n",
      "Plywood    108\n",
      "CemntBd     61\n",
      "BrkFace     50\n",
      "WdShing     26\n",
      "Stucco      25\n",
      "AsbShng     20\n",
      "BrkComm      2\n",
      "Stone        2\n",
      "CBlock       1\n",
      "ImStucc      1\n",
      "AsphShn      1\n",
      "Name: Exterior1st, dtype: int64\n",
      "VinylSd    504\n",
      "MetalSd    214\n",
      "HdBoard    207\n",
      "Wd Sdng    197\n",
      "Plywood    142\n",
      "CmentBd     60\n",
      "Wd Shng     38\n",
      "Stucco      26\n",
      "BrkFace     25\n",
      "AsbShng     20\n",
      "ImStucc     10\n",
      "Brk Cmn      7\n",
      "Stone        5\n",
      "AsphShn      3\n",
      "CBlock       1\n",
      "Other        1\n",
      "Name: Exterior2nd, dtype: int64\n",
      "None       864\n",
      "BrkFace    445\n",
      "Stone      128\n",
      "BrkCmn      15\n",
      "Name: MasVnrType, dtype: int64\n",
      "0.0      861\n",
      "72.0       8\n",
      "180.0      8\n",
      "108.0      8\n",
      "120.0      7\n",
      "        ... \n",
      "651.0      1\n",
      "337.0      1\n",
      "415.0      1\n",
      "293.0      1\n",
      "621.0      1\n",
      "Name: MasVnrArea, Length: 327, dtype: int64\n",
      "0       467\n",
      "24       12\n",
      "16        9\n",
      "20        5\n",
      "686       5\n",
      "       ... \n",
      "1032      1\n",
      "1022      1\n",
      "599       1\n",
      "1018      1\n",
      "1904      1\n",
      "Name: BsmtFinSF1, Length: 637, dtype: int64\n",
      "0       1293\n",
      "180        5\n",
      "374        3\n",
      "551        2\n",
      "93         2\n",
      "        ... \n",
      "532        1\n",
      "544        1\n",
      "546        1\n",
      "547        1\n",
      "1474       1\n",
      "Name: BsmtFinSF2, Length: 144, dtype: int64\n",
      "0       118\n",
      "728       9\n",
      "384       8\n",
      "572       7\n",
      "600       7\n",
      "       ... \n",
      "731       1\n",
      "730       1\n",
      "726       1\n",
      "725       1\n",
      "2046      1\n",
      "Name: BsmtUnfSF, Length: 780, dtype: int64\n",
      "0       37\n",
      "864     35\n",
      "672     17\n",
      "912     15\n",
      "1040    14\n",
      "        ..\n",
      "1463     1\n",
      "1459     1\n",
      "1454     1\n",
      "1019     1\n",
      "2046     1\n",
      "Name: TotalBsmtSF, Length: 721, dtype: int64\n",
      "0    856\n",
      "1    588\n",
      "2     15\n",
      "3      1\n",
      "Name: BsmtFullBath, dtype: int64\n",
      "0    1378\n",
      "1      80\n",
      "2       2\n",
      "Name: BsmtHalfBath, dtype: int64\n",
      "TA    735\n",
      "Gd    586\n",
      "Ex    100\n",
      "Fa     39\n",
      "Name: KitchenQual, dtype: int64\n",
      "Typ     1360\n",
      "Min2      34\n",
      "Min1      31\n",
      "Mod       15\n",
      "Maj1      14\n",
      "Maj2       5\n",
      "Sev        1\n",
      "Name: Functional, dtype: int64\n",
      "2005.0    65\n",
      "2006.0    59\n",
      "2004.0    53\n",
      "2003.0    50\n",
      "2007.0    49\n",
      "          ..\n",
      "1908.0     1\n",
      "1927.0     1\n",
      "1933.0     1\n",
      "1900.0     1\n",
      "1906.0     1\n",
      "Name: GarageYrBlt, Length: 97, dtype: int64\n",
      "2    824\n",
      "1    369\n",
      "3    181\n",
      "0     81\n",
      "4      5\n",
      "Name: GarageCars, dtype: int64\n",
      "0       81\n",
      "440     49\n",
      "576     47\n",
      "240     38\n",
      "484     34\n",
      "        ..\n",
      "754      1\n",
      "459      1\n",
      "458      1\n",
      "756      1\n",
      "1418     1\n",
      "Name: GarageArea, Length: 441, dtype: int64\n",
      "WD       1267\n",
      "New       122\n",
      "COD        43\n",
      "ConLD       9\n",
      "ConLI       5\n",
      "ConLw       5\n",
      "CWD         4\n",
      "Oth         3\n",
      "Con         2\n",
      "Name: SaleType, dtype: int64\n"
     ]
    }
   ],
   "source": [
    "for i in PrintMissing(test).keys():\n",
    "    print(train[i].value_counts())"
   ]
  },
  {
   "cell_type": "markdown",
   "metadata": {},
   "source": [
    "i would replace the remaining columns with the most frequent of each columns"
   ]
  },
  {
   "cell_type": "code",
   "execution_count": 227,
   "metadata": {},
   "outputs": [],
   "source": [
    "y=train[\"SalePrice\"]\n",
    "X=train.drop(\"SalePrice\",axis=1)"
   ]
  },
  {
   "cell_type": "code",
   "execution_count": 228,
   "metadata": {},
   "outputs": [],
   "source": [
    "list_of_object_columns=[]\n",
    "for i in X.columns:\n",
    "    if train[i].dtype==object:\n",
    "        list_of_object_columns.append(i)"
   ]
  },
  {
   "cell_type": "code",
   "execution_count": 229,
   "metadata": {
    "scrolled": true
   },
   "outputs": [
    {
     "data": {
      "text/plain": [
       "['MSZoning',\n",
       " 'Street',\n",
       " 'LotShape',\n",
       " 'LandContour',\n",
       " 'Utilities',\n",
       " 'LotConfig',\n",
       " 'LandSlope',\n",
       " 'Neighborhood',\n",
       " 'Condition1',\n",
       " 'Condition2',\n",
       " 'BldgType',\n",
       " 'HouseStyle',\n",
       " 'RoofStyle',\n",
       " 'RoofMatl',\n",
       " 'Exterior1st',\n",
       " 'Exterior2nd',\n",
       " 'MasVnrType',\n",
       " 'ExterQual',\n",
       " 'ExterCond',\n",
       " 'Foundation',\n",
       " 'Heating',\n",
       " 'HeatingQC',\n",
       " 'CentralAir',\n",
       " 'Electrical',\n",
       " 'KitchenQual',\n",
       " 'Functional',\n",
       " 'PavedDrive',\n",
       " 'SaleType',\n",
       " 'SaleCondition']"
      ]
     },
     "execution_count": 229,
     "metadata": {},
     "output_type": "execute_result"
    }
   ],
   "source": [
    "list_of_object_columns"
   ]
  },
  {
   "cell_type": "code",
   "execution_count": 230,
   "metadata": {},
   "outputs": [],
   "source": [
    "objectonly_X=X[list_of_object_columns]\n",
    "objectonly_test=test[list_of_object_columns]"
   ]
  },
  {
   "cell_type": "code",
   "execution_count": 231,
   "metadata": {
    "scrolled": true
   },
   "outputs": [],
   "source": [
    "imputer=SimpleImputer(strategy=\"most_frequent\")\n",
    "objectonly_X=pd.DataFrame(imputer.fit_transform(objectonly_X),columns=objectonly_X.columns)\n",
    "objectonly_test=pd.DataFrame(imputer.transform(objectonly_test),columns=objectonly_test.columns)"
   ]
  },
  {
   "cell_type": "code",
   "execution_count": 232,
   "metadata": {},
   "outputs": [
    {
     "data": {
      "text/plain": [
       "MSZoning         object\n",
       "Street           object\n",
       "LotShape         object\n",
       "LandContour      object\n",
       "Utilities        object\n",
       "LotConfig        object\n",
       "LandSlope        object\n",
       "Neighborhood     object\n",
       "Condition1       object\n",
       "Condition2       object\n",
       "BldgType         object\n",
       "HouseStyle       object\n",
       "RoofStyle        object\n",
       "RoofMatl         object\n",
       "Exterior1st      object\n",
       "Exterior2nd      object\n",
       "MasVnrType       object\n",
       "ExterQual        object\n",
       "ExterCond        object\n",
       "Foundation       object\n",
       "Heating          object\n",
       "HeatingQC        object\n",
       "CentralAir       object\n",
       "Electrical       object\n",
       "KitchenQual      object\n",
       "Functional       object\n",
       "PavedDrive       object\n",
       "SaleType         object\n",
       "SaleCondition    object\n",
       "dtype: object"
      ]
     },
     "execution_count": 232,
     "metadata": {},
     "output_type": "execute_result"
    }
   ],
   "source": [
    "objectonly_X.dtypes"
   ]
  },
  {
   "cell_type": "code",
   "execution_count": 233,
   "metadata": {
    "scrolled": true
   },
   "outputs": [],
   "source": [
    "for i in objectonly_X.columns:\n",
    "    encoder=LabelEncoder()\n",
    "    objectonly_X[i]=encoder.fit_transform(objectonly_X[i])\n",
    "    objectonly_test[i]=encoder.transform(objectonly_test[i])\n",
    "    X[i]=objectonly_X[i]\n",
    "    test[i]=objectonly_test[i]"
   ]
  },
  {
   "cell_type": "code",
   "execution_count": 234,
   "metadata": {
    "scrolled": true
   },
   "outputs": [
    {
     "data": {
      "text/plain": [
       "MSSubClass         int64\n",
       "MSZoning         float64\n",
       "LotFrontage      float64\n",
       "LotArea            int64\n",
       "Street           float64\n",
       "                  ...   \n",
       "MiscVal            int64\n",
       "MoSold             int64\n",
       "YrSold             int64\n",
       "SaleType         float64\n",
       "SaleCondition    float64\n",
       "Length: 79, dtype: object"
      ]
     },
     "execution_count": 234,
     "metadata": {},
     "output_type": "execute_result"
    }
   ],
   "source": [
    "X.dtypes"
   ]
  },
  {
   "cell_type": "code",
   "execution_count": 343,
   "metadata": {},
   "outputs": [],
   "source": [
    "pipe=Pipeline([(\"imputer\",SimpleImputer()),(\"scaler\",MinMaxScaler()),(\"model\",GradientBoostingRegressor(n_estimators=150))])"
   ]
  },
  {
   "cell_type": "code",
   "execution_count": 345,
   "metadata": {
    "scrolled": true
   },
   "outputs": [
    {
     "data": {
      "text/plain": [
       "Pipeline(memory=None,\n",
       "     steps=[('imputer', SimpleImputer(copy=True, fill_value=None, missing_values=nan, strategy='mean',\n",
       "       verbose=0)), ('scaler', MinMaxScaler(copy=True, feature_range=(0, 1))), ('model', GradientBoostingRegressor(alpha=0.9, criterion='friedman_mse', init=None,\n",
       "             learning_rate=0.1, loss='l...one, subsample=1.0, tol=0.0001,\n",
       "             validation_fraction=0.1, verbose=0, warm_start=False))])"
      ]
     },
     "execution_count": 345,
     "metadata": {},
     "output_type": "execute_result"
    }
   ],
   "source": [
    "pipe.fit(X,y)"
   ]
  },
  {
   "cell_type": "code",
   "execution_count": 357,
   "metadata": {
    "scrolled": true
   },
   "outputs": [
    {
     "name": "stdout",
     "output_type": "stream",
     "text": [
      "0.9696722475802221\n"
     ]
    }
   ],
   "source": [
    "print(pipe.score(X,y))"
   ]
  },
  {
   "cell_type": "code",
   "execution_count": 358,
   "metadata": {},
   "outputs": [],
   "source": [
    "score=pipe.predict(X)"
   ]
  },
  {
   "cell_type": "code",
   "execution_count": 359,
   "metadata": {
    "scrolled": true
   },
   "outputs": [
    {
     "name": "stdout",
     "output_type": "stream",
     "text": [
      "10193.24089013474\n"
     ]
    }
   ],
   "source": [
    "print(mean_absolute_error(y,score))"
   ]
  },
  {
   "cell_type": "code",
   "execution_count": 360,
   "metadata": {},
   "outputs": [],
   "source": [
    "pred=pipe.predict(test)"
   ]
  },
  {
   "cell_type": "code",
   "execution_count": 361,
   "metadata": {},
   "outputs": [],
   "source": [
    "result_dic={\"Id\":test.index,\"SalePrice\":pred}\n",
    "result=pd.DataFrame(result_dic)"
   ]
  },
  {
   "cell_type": "code",
   "execution_count": 362,
   "metadata": {
    "scrolled": true
   },
   "outputs": [],
   "source": [
    "result=result.set_index(\"Id\")"
   ]
  },
  {
   "cell_type": "code",
   "execution_count": 363,
   "metadata": {},
   "outputs": [],
   "source": [
    "result.to_csv(\"/storage/emulated/0/kaggle_advanced_submission.csv\")"
   ]
  },
  {
   "cell_type": "markdown",
   "metadata": {},
   "source": [
    "The solution scored 0.13908 on the leaderboardbut i can still apply some feature engineering to improve our score"
   ]
  },
  {
   "cell_type": "code",
   "execution_count": 364,
   "metadata": {},
   "outputs": [],
   "source": [
    "feature_importance=pipe.named_steps[\"model\"].feature_importances_"
   ]
  },
  {
   "cell_type": "code",
   "execution_count": 365,
   "metadata": {},
   "outputs": [],
   "source": [
    "list_feature_importance=list(feature_importance)\n",
    "list_features=list(X.columns)\n",
    "for i in list_feature_importance:\n",
    "    if i==0:\n",
    "        index_i=list_feature_importance.index(i)\n",
    "        feature=list_features[index_i]\n",
    "        list_features.remove(feature)\n",
    "        list_feature_importance.remove(i)"
   ]
  },
  {
   "cell_type": "code",
   "execution_count": 366,
   "metadata": {
    "scrolled": false
   },
   "outputs": [
    {
     "data": {
      "image/png": "[encoded data removed]",
      "text/plain": [
       "<Figure size 1440x1440 with 1 Axes>"
      ]
     },
     "metadata": {
      "needs_background": "light"
     },
     "output_type": "display_data"
    }
   ],
   "source": [
    "plt.figure(figsize=(20,20))\n",
    "plt.bar(range(len(list_features)),list_feature_importance)\n",
    "plt.xticks(range(len(list_features)),list_features,rotation=90)\n",
    "plt.show() #"
   ]
  },
  {
   "cell_type": "markdown",
   "metadata": {},
   "source": [
    "the most important feature is the OverallQual which is the overall quality , then the GrLivingArea which is the living area square feet, followed by the GarageCars,TotalBsmtSf,BsmtFinSF1"
   ]
  },
  {
   "cell_type": "markdown",
   "metadata": {},
   "source": [
    "i would do feature engineering later"
   ]
  }
 ],
 "metadata": {
  "kernelspec": {
   "display_name": "Python 3",
   "language": "python",
   "name": "python3"
  },
  "language_info": {
   "codemirror_mode": {
    "name": "ipython",
    "version": 3
   },
   "file_extension": ".py",
   "mimetype": "text/x-python",
   "name": "python",
   "nbconvert_exporter": "python",
   "pygments_lexer": "ipython3",
   "version": "3.7.2"
  }
 },
 "nbformat": 4,
 "nbformat_minor": 4
}
